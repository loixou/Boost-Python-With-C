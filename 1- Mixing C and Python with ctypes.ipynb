{
 "cells": [
  {
   "cell_type": "markdown",
   "metadata": {},
   "source": [
    "# Mixing C and Python with ctypes\n",
    "\n",
    " This notebook is set to have a look on the Python modula called [ctypes](https://docs.python.org/3/library/ctypes.html). One may find different sources of information concerning it. However, the main goal is to summarize different methods one might face on mixing C and Python. It is not complete, though. Any idea of improvement is greatly welcomed.\n",
    " \n",
    "\n",
    "The notebook is built on the following order:\n",
    " \n",
    " 1. [Compilation of shared libraries](#Compilation)\n",
    " 2. [Get stdout in the notebook](#getSTDOUT)\n",
    " 3. [Ctypes](#ctypes)     \n",
    " 4. [Simple use](#simpleUse)\n",
    " 5. [Unmutable and mutable strings](#strings)\n",
    " 6. [Pointers and malloc](#pointers)\n",
    " 7. [Structures](#structures)\n",
    " 8. [CFFI](#cffi) \n",
    " 9. [References](#references)\n",
    " \n",
    " \n",
    "This notebook was tested on a Ubuntu distribution, with Python3.6.\n"
   ]
  },
  {
   "cell_type": "markdown",
   "metadata": {},
   "source": [
    "## Some imports and path definitions"
   ]
  },
  {
   "cell_type": "code",
   "execution_count": 1,
   "metadata": {
    "collapsed": true
   },
   "outputs": [],
   "source": [
    "import os\n",
    "import numpy as np\n",
    "import sys\n",
    "import subprocess\n",
    "\n",
    "# Different packages we test\n",
    "import ctypes\n",
    "from cffi import FFI"
   ]
  },
  {
   "cell_type": "code",
   "execution_count": 2,
   "metadata": {
    "collapsed": true
   },
   "outputs": [],
   "source": [
    "PATH_LIB = './libs/'\n",
    "PATH_C = './src/'"
   ]
  },
  {
   "cell_type": "markdown",
   "metadata": {},
   "source": [
    "## <a id=\"Compilation\"></a> Compilation of C library\n",
    "\n",
    "To be used in other languages, such as Python, C code must be compiled into a shared library. To do so, we use the following lines."
   ]
  },
  {
   "cell_type": "code",
   "execution_count": 3,
   "metadata": {
    "scrolled": true
   },
   "outputs": [
    {
     "name": "stdout",
     "output_type": "stream",
     "text": [
      "Library compiled! (in ./libs/C2py.so)\n"
     ]
    }
   ],
   "source": [
    "os.system(\"gcc -std=c99 -Wall -fPIC -c {} -o {}\".format(os.path.join(PATH_C, \"C_to_python.c\"), \n",
    "                                                        os.path.join(PATH_LIB, \"C_to_python.o\")))\n",
    "os.system(\"gcc -shared -o {} {}\".format(os.path.join(PATH_LIB, \"C2py.so\"), \n",
    "                                        os.path.join(PATH_LIB, \"C_to_python.o\"))) \n",
    "\n",
    "print(\"Library compiled! (in {})\".format(os.path.join(PATH_LIB, \"C2py.so\")))"
   ]
  },
  {
   "cell_type": "markdown",
   "metadata": {},
   "source": [
    "## <a id=\"getSTDOUT\"></a> Function to get stdout in the notebook\n",
    "\n",
    "Different C functions (**printf()** in particular) use a standard output in the terminal (*stdout*). A function [[3](#captureSTDOUT)] is used to grab them into the notebook. This part is completely useless when using a script .py, and must be completly removed."
   ]
  },
  {
   "cell_type": "code",
   "execution_count": 4,
   "metadata": {
    "collapsed": true
   },
   "outputs": [],
   "source": [
    "import tempfile\n",
    "from contextlib import contextmanager\n",
    "import io\n",
    "\n",
    "libc = ctypes.CDLL(ctypes.util.find_library('c'), use_errno=True)\n",
    "\n",
    "class FILE(ctypes.Structure):\n",
    "    pass\n",
    "\n",
    "FILE_p = ctypes.POINTER(FILE)\n",
    "\n",
    "# These variables, defined inside the C library, are readonly.\n",
    "cstdin = FILE_p.in_dll(libc, 'stdin')\n",
    "cstdout = FILE_p.in_dll(libc, 'stdout')\n",
    "cstderr = FILE_p.in_dll(libc, 'stderr')\n",
    "\n",
    "# C function to disable buffering.\n",
    "csetbuf = libc.setbuf\n",
    "csetbuf.argtypes = (FILE_p, ctypes.c_char_p)\n",
    "csetbuf.restype = None\n",
    "\n",
    "# C function to flush the C library buffer.\n",
    "cfflush = libc.fflush\n",
    "cfflush.argtypes = (FILE_p,)\n",
    "cfflush.restype = ctypes.c_int\n",
    "\n",
    "@contextmanager\n",
    "def capture_c_stdout(encoding='utf8'):\n",
    "    # Flushing, it's a good practice.\n",
    "    sys.stdout.flush()\n",
    "    cfflush(cstdout)\n",
    "\n",
    "    # We need to use a actual file because we need the file descriptor number.\n",
    "    with tempfile.TemporaryFile(buffering=0) as temp:\n",
    "        # Saving a copy of the original stdout.\n",
    "        prev_sys_stdout = sys.stdout\n",
    "        prev_stdout_fd = os.dup(1)\n",
    "        os.close(1)\n",
    "\n",
    "        # Duplicating the temporary file fd into the stdout fd.\n",
    "        # In other words, replacing the stdout.\n",
    "        os.dup2(temp.fileno(), 1)\n",
    "\n",
    "        # Replacing sys.stdout for Python code.\n",
    "        #\n",
    "        # IPython Notebook version of sys.stdout is actually an\n",
    "        # in-memory OutStream, so it does not have a file descriptor.\n",
    "        # We need to replace sys.stdout so that interleaved Python\n",
    "        # and C output gets captured in the correct order.\n",
    "        #\n",
    "        # We enable line_buffering to force a flush after each line.\n",
    "        # And write_through to force all data to be passed through the\n",
    "        # wrapper directly into the binary temporary file.\n",
    "        temp_wrapper = io.TextIOWrapper(\n",
    "            temp, encoding=encoding, line_buffering=True, write_through=True)\n",
    "        sys.stdout = temp_wrapper\n",
    "\n",
    "        # Disabling buffering of C stdout.\n",
    "        csetbuf(cstdout, None)\n",
    "\n",
    "        yield\n",
    "\n",
    "        # Must flush to clear the C library buffer.\n",
    "        cfflush(cstdout)\n",
    "\n",
    "        # Restoring stdout.\n",
    "        os.dup2(prev_stdout_fd, 1)\n",
    "        os.close(prev_stdout_fd)\n",
    "        sys.stdout = prev_sys_stdout\n",
    "\n",
    "        # Printing the captured output.\n",
    "        temp_wrapper.seek(0)\n",
    "        print(temp_wrapper.read(), end='')"
   ]
  },
  {
   "cell_type": "markdown",
   "metadata": {},
   "source": [
    "## <a id=\"ctypes\"></a> Ctypes\n",
    "\n",
    "Once the shared library compiled (and, optionally, the function to capture the stdout), we may use it. \n",
    "\n",
    "### <a id=\"loadLibrary\"></a> Loading Library\n",
    "\n",
    "We load the library into *lib*."
   ]
  },
  {
   "cell_type": "code",
   "execution_count": 5,
   "metadata": {
    "collapsed": true
   },
   "outputs": [],
   "source": [
    "lib = ctypes.CDLL(os.path.join(PATH_LIB, 'C2py.so'))"
   ]
  },
  {
   "cell_type": "markdown",
   "metadata": {},
   "source": [
    "### <a id=\"simpleUse\"></a> Simple use\n",
    "\n",
    "Loading the library creates an object wherein all functions are attributes. Then, it is easy to watch the effect of calling **welcome()**. It would also be interesting to test the same cell without the capture function to see the difference."
   ]
  },
  {
   "cell_type": "code",
   "execution_count": 6,
   "metadata": {},
   "outputs": [
    {
     "name": "stdout",
     "output_type": "stream",
     "text": [
      "C --> Would you like a cup of tea?\n"
     ]
    }
   ],
   "source": [
    "with capture_c_stdout():\n",
    "    lib.welcome()"
   ]
  },
  {
   "cell_type": "markdown",
   "metadata": {},
   "source": [
    "For practical reasons, it is interesting to create a wrapper. We can specify the output and parameters types, so the C kernel won't crash. Thus, **wrap_c2py** returns a function the library gets, identified by its name. For the function **welcome()**, the benefit does not appear relevant (we can just call *welcome()* instead for *lib.welcome()*). It will for other examples."
   ]
  },
  {
   "cell_type": "code",
   "execution_count": 7,
   "metadata": {
    "collapsed": true
   },
   "outputs": [],
   "source": [
    "def wrap_c2py(lib, name_function, restype, argtypes):\n",
    "    f = lib.__getattr__(name_function)\n",
    "    f.restype = restype\n",
    "    f.argtypes = argtypes\n",
    "    return f"
   ]
  },
  {
   "cell_type": "code",
   "execution_count": 8,
   "metadata": {
    "scrolled": true
   },
   "outputs": [
    {
     "name": "stdout",
     "output_type": "stream",
     "text": [
      "C --> Would you like a cup of tea?\n"
     ]
    }
   ],
   "source": [
    "# use the WELCOME function with the wrapper\n",
    "with capture_c_stdout():\n",
    "    welcome = wrap_c2py(lib, 'welcome', None, None)\n",
    "    welcome()"
   ]
  },
  {
   "cell_type": "markdown",
   "metadata": {},
   "source": [
    "If one decide to use inputs and output, which can be usefull, here are some examples. First, we add two integers in order to return the sum, which is also an integer. Integers in C are defined by the ctypes type **c_int** (All types can be found in [the documentation](https://docs.python.org/3/library/ctypes.html)). This function uses two arguments. A single input makes the kernel crash, but three or more arguments seem not to bring problems. Indeed, the function only takes the 2 firsts arguments, and forget about the others. Then, **adding_int(1,2,3)** returns 3."
   ]
  },
  {
   "cell_type": "code",
   "execution_count": 9,
   "metadata": {},
   "outputs": [
    {
     "name": "stdout",
     "output_type": "stream",
     "text": [
      "11\n"
     ]
    }
   ],
   "source": [
    "# add 2 integers\n",
    "with capture_c_stdout():\n",
    "    adding_int = wrap_c2py(lib, \"add\", ctypes.c_int, [ctypes.c_int, ctypes.c_int])\n",
    "    b = adding_int(3,8)\n",
    "    \n",
    "print(b)"
   ]
  },
  {
   "cell_type": "markdown",
   "metadata": {},
   "source": [
    "Next step is to add all the elements of a given table. To do so, we use the C function **sum** we implemented. Here, a pointer has to be used. Two ways are possible, and differs by the nature of the input.\n",
    "- Use the native POINTER function of *ctypes*. Then, the input would be a list of numbers (here double)\n",
    "- Use the Numpy library and its pointer definition *numpy.ctypeslib.ndpointer*. In that case, the input must be a numpy array"
   ]
  },
  {
   "cell_type": "code",
   "execution_count": 10,
   "metadata": {},
   "outputs": [
    {
     "name": "stdout",
     "output_type": "stream",
     "text": [
      "C --> Sum = 34.501110\n"
     ]
    }
   ],
   "source": [
    "n_elements = 10\n",
    "tab_numpy = 10 * np.random.rand(n_elements) # creates a numpy array of n_elements\n",
    "\n",
    "# sum an array of n elements with the numpy case\n",
    "with capture_c_stdout():\n",
    "    sum_tab_numpy = wrap_c2py(lib, \"sum\", ctypes.c_double, [ctypes.c_int, np.ctypeslib.ndpointer(ctypes.c_double)])\n",
    "    sum_tab_numpy(n_elements, tab_numpy)"
   ]
  },
  {
   "cell_type": "code",
   "execution_count": 11,
   "metadata": {
    "scrolled": true
   },
   "outputs": [
    {
     "name": "stdout",
     "output_type": "stream",
     "text": [
      "C --> Sum = 34.501110\n"
     ]
    }
   ],
   "source": [
    "tab = list(tab_numpy) # transform the numpy array into a simple list\n",
    "\n",
    "# sum an array of n elements with the standard case\n",
    "with capture_c_stdout():\n",
    "    arr_type = ctypes.c_double * len(tab) # equivalent to malloc(sizeof)\n",
    "    sum_tab = wrap_c2py(lib, \"sum\", ctypes.c_double, [ctypes.c_int, ctypes.POINTER(ctypes.c_double)])\n",
    "    sum_tab(len(tab), arr_type(*tab))"
   ]
  },
  {
   "cell_type": "markdown",
   "metadata": {},
   "source": [
    "The two methods can be combined into one single function by wrapping everything. An idea is given below. A simplest way would be to cast every input into a single type (*list* for instance) and to apply the same function."
   ]
  },
  {
   "cell_type": "code",
   "execution_count": 12,
   "metadata": {},
   "outputs": [],
   "source": [
    "def sum_c(numbers):\n",
    "    global lib\n",
    "    len_numbers = len(numbers)\n",
    "    \n",
    "    if isinstance(numbers, list):\n",
    "        arr_type = ctypes.c_double * len_numbers\n",
    "        sum_tab = wrap_c2py(lib, \"sum\", ctypes.c_double, [ctypes.c_int, ctypes.POINTER(ctypes.c_double)])\n",
    "        with capture_c_stdout():\n",
    "            return sum_tab(len_numbers, arr_type(*numbers))\n",
    "            \n",
    "    elif type(numbers).__module__ == np.__name__:\n",
    "        sum_tab = wrap_c2py(lib, \"sum\", ctypes.c_double, [ctypes.c_int, np.ctypeslib.ndpointer(ctypes.c_double)])\n",
    "        numbers_double = numbers.astype(np.float64) # cast the numbers into C double\n",
    "        with capture_c_stdout():\n",
    "            return sum_tab(len_numbers, numbers_double)\n",
    "    else:\n",
    "        raise ValueError(\"Numbers must either be a list or a numpy array\")"
   ]
  },
  {
   "cell_type": "code",
   "execution_count": 13,
   "metadata": {
    "scrolled": true
   },
   "outputs": [
    {
     "name": "stdout",
     "output_type": "stream",
     "text": [
      "C --> Sum = 9.000000\n"
     ]
    }
   ],
   "source": [
    "result = sum_c([4,3,2])"
   ]
  },
  {
   "cell_type": "markdown",
   "metadata": {},
   "source": [
    "### <a id=\"strings\"></a> Unmutable and mutable strings\n",
    "\n",
    "Using strings might be a little more tricky thant numbers. In Python, strings are unmutable, which means that they cannot be modified. To modify strings in Python, we must create another variable, which is not the case in C. Thus, we need to convert them so they can be used in C code. The following examples show the difference between unmutable Python strings and mutable ctypes string buffer."
   ]
  },
  {
   "cell_type": "code",
   "execution_count": 14,
   "metadata": {
    "scrolled": true
   },
   "outputs": [
    {
     "name": "stdout",
     "output_type": "stream",
     "text": [
      "C --> T\n"
     ]
    }
   ],
   "source": [
    "# unmutable case\n",
    "unmutable_str = \"This is a test!\"\n",
    "print_text = wrap_c2py(lib, \"print_text\", None, None)\n",
    "with capture_c_stdout():\n",
    "    print_text(unmutable_str)"
   ]
  },
  {
   "cell_type": "code",
   "execution_count": 15,
   "metadata": {},
   "outputs": [
    {
     "name": "stdout",
     "output_type": "stream",
     "text": [
      "C --> This is a test!\n"
     ]
    }
   ],
   "source": [
    "# mutable case\n",
    "unmutable_str = \"This is a test!\"\n",
    "mutable_str = ctypes.create_string_buffer(str.encode(unmutable_str))\n",
    "\n",
    "with capture_c_stdout():\n",
    "    print_text(mutable_str)"
   ]
  },
  {
   "cell_type": "markdown",
   "metadata": {},
   "source": [
    "### <a id=\"pointers\"></a> Pointers and malloc\n",
    "\n",
    "#### Use a pointer input parameter as an output\n",
    "\n",
    "C functions have a single output. Then, it is possible to get an input modified by using pointers. We'll show brief examples of how it works by using the previously defined function **square_array**. As previously written, it is also possible to use both methods, coming from:\n",
    "- the native POINTER function\n",
    "- the numpy ndpointer function\n",
    "\n",
    "In both methods, memory must be allocated in Python because it is not done in C. Explanations about allocation are written further. Here, the use of the numpy function is shown."
   ]
  },
  {
   "cell_type": "code",
   "execution_count": 16,
   "metadata": {},
   "outputs": [
    {
     "name": "stdout",
     "output_type": "stream",
     "text": [
      "5.0² = 25.0\n",
      "4.3² = 18.49\n",
      "2.0² = 4.0\n"
     ]
    }
   ],
   "source": [
    "ina_np = np.array([5, 4.3, 2], dtype=np.float64)\n",
    "outa_np = np.zeros(len(ina_np)) # initialization of the output / Memory initialization\n",
    "\n",
    "square_array_np = wrap_c2py(lib, \"square_array\", None, [ctypes.c_int, np.ctypeslib.ndpointer(ctypes.c_double), np.ctypeslib.ndpointer(ctypes.c_double)])\n",
    "with capture_c_stdout():\n",
    "    square_array_np(len(ina_np), ina_np, outa_np)\n",
    "\n",
    "for i in range(len(ina_np)):\n",
    "    print(\"{}² = {}\".format(ina_np[i], outa_np[i]))"
   ]
  },
  {
   "cell_type": "markdown",
   "metadata": {},
   "source": [
    "#### Malloc and free\n",
    "\n",
    "The golden rule in using *ctypes* is that the language which creates a variable must also free it. Let me explain. If memory is allocated in the C language (**malloc**), then the user MUST free this variable in C (**free**). However, if variables are created in Python, the garbage collector does what it has to do. \n",
    "\n",
    "Two examples are shown in this section. The first one initializes a matrix given a list of integers. Each element $e_i$ of this list defines the number of elements the matrix gets on line $i$. This way, it is possible to simply store huge sparse matrix (More information about [sparse matrices](https://en.wikipedia.org/wiki/Sparse_matrix)). The second one uses the function **byref** which helps to modify an input parameter.\n",
    "\n",
    "These examples are a little more complex. Because the aim of this tutorial is to learn how to use some C functions in our Python script, we use wrappers to return both the pointer and the values. Values are written in lists of lits, but one can imagine other datatypes, such as dictionnaries."
   ]
  },
  {
   "cell_type": "code",
   "execution_count": 17,
   "metadata": {},
   "outputs": [],
   "source": [
    "def init_matrix(sizelist):\n",
    "    n_sizelist = len(sizelist)\n",
    "    arr_type = ctypes.c_int * n_sizelist\n",
    "    init_matrix = wrap_c2py(lib, \"init_matrix\", ctypes.POINTER(ctypes.POINTER(ctypes.c_int)), [ctypes.c_int, ctypes.POINTER(ctypes.c_int)])\n",
    "    with capture_c_stdout():\n",
    "        address = init_matrix(n_sizelist, arr_type(*sizelist))\n",
    "        val = [[address[i][j] for j in range(sizelist[i])] for i in range(n_sizelist)]\n",
    "        return val, address"
   ]
  },
  {
   "cell_type": "code",
   "execution_count": 18,
   "metadata": {},
   "outputs": [
    {
     "name": "stdout",
     "output_type": "stream",
     "text": [
      "C --> Allocating memory for matrix\n",
      "Matrix [[0, 0, 0, 0], [0, 0, 0, 0, 0], [0]] \n",
      "stored by <__main__.LP_LP_c_int object at 0x7fd5fc4368c8>\n",
      "First elements in matrix: [0, 0, 0, 0, 0]\n"
     ]
    }
   ],
   "source": [
    "val, address = init_matrix([4,5,1])\n",
    "\n",
    "print(\"Matrix {} \\nstored by {}\".format(val, address))\n",
    "print(\"First elements in matrix: {}\".format(address[0][:5]))\n"
   ]
  },
  {
   "cell_type": "markdown",
   "metadata": {},
   "source": [
    "The five first elements of the matrix are all 0 but the last. This is normal because we allocate and set to 0 only 4 elements in the first row. Then, an important point is that we can access memory with a pointer which is not meant to be accessed, which can lead to huge errors. Indexing is thus important, such as in C.\n",
    "\n",
    "We can free the allocated matrix by calling *free_matrix()*:"
   ]
  },
  {
   "cell_type": "code",
   "execution_count": 19,
   "metadata": {
    "collapsed": true
   },
   "outputs": [],
   "source": [
    "def free_matrix(val, address):\n",
    "    n_sizelist = len(val)\n",
    "    sizelist = []\n",
    "    for el in val:\n",
    "        sizelist.append(len(el))\n",
    "        \n",
    "    free_matrix_c = wrap_c2py(lib, \"free_matrix\", None, [ctypes.c_int, ctypes.POINTER(ctypes.c_int), ctypes.POINTER(ctypes.POINTER(ctypes.c_int))])\n",
    "    arr_type = ctypes.c_int * n_sizelist\n",
    "    with capture_c_stdout():\n",
    "        free_matrix_c(n_sizelist, arr_type(*sizelist), address)"
   ]
  },
  {
   "cell_type": "code",
   "execution_count": 20,
   "metadata": {
    "scrolled": true
   },
   "outputs": [
    {
     "name": "stdout",
     "output_type": "stream",
     "text": [
      "C --> Freeing a matrix previously allocated\n",
      "Matrix [[0, 0, 0, 0], [0, 0, 0, 0, 0], [0]] \n",
      "stored by <__main__.LP_LP_c_int object at 0x7fd5fc4368c8>\n"
     ]
    }
   ],
   "source": [
    "free_matrix(val, address)\n",
    "\n",
    "print(\"Matrix {} \\nstored by {}\".format(val, address))"
   ]
  },
  {
   "cell_type": "markdown",
   "metadata": {},
   "source": [
    "One can notice that *address* is still defined as a pointer of pointer, and that the *value* is unchanged. But no memory is allocated to the pointer (NULL return).\n",
    "\n",
    "The second example shows how to use the **byref()** function, which permits to directly give the address of an element in order to modify it."
   ]
  },
  {
   "cell_type": "code",
   "execution_count": 21,
   "metadata": {},
   "outputs": [],
   "source": [
    "def init_tab(size):\n",
    "    init_tab_c = wrap_c2py(lib, \"init_tab\", None, [ctypes.c_int, ctypes.POINTER(ctypes.POINTER(ctypes.c_int))])\n",
    "    arr_type = ctypes.POINTER(ctypes.c_int)()\n",
    "    with capture_c_stdout():\n",
    "        init_tab_c(size, ctypes.byref(arr_type))\n",
    "        \n",
    "        val = arr_type[:size]\n",
    "        address = arr_type\n",
    "    return val, address"
   ]
  },
  {
   "cell_type": "code",
   "execution_count": 22,
   "metadata": {},
   "outputs": [
    {
     "name": "stdout",
     "output_type": "stream",
     "text": [
      "C --> Allocating memory for tab\n",
      "Tab [0, 0, 0] \n",
      "stored by <__main__.LP_c_int object at 0x7fd5fc4369d8>\n",
      "First elements in the tab: [0, 0, 0, 32726, -62734612]\n"
     ]
    }
   ],
   "source": [
    "val, address = init_tab(3)\n",
    "\n",
    "print(\"Tab {} \\nstored by {}\".format(val, address))\n",
    "print(\"First elements in the tab: {}\".format(address[:5]))"
   ]
  },
  {
   "cell_type": "code",
   "execution_count": 23,
   "metadata": {},
   "outputs": [
    {
     "name": "stdout",
     "output_type": "stream",
     "text": [
      "C --> Freeing a table previously allocated\n"
     ]
    }
   ],
   "source": [
    "def free_tab(address):\n",
    "    size = len(val)\n",
    "    free_tab_c = wrap_c2py(lib, \"free_tab\", None, [ctypes.POINTER(ctypes.c_int)])\n",
    "    with capture_c_stdout():\n",
    "        free_tab_c(address)\n",
    "\n",
    "free_tab(address)"
   ]
  },
  {
   "cell_type": "markdown",
   "metadata": {},
   "source": [
    "### <a id=\"structures\" ></a> How to use a structure?\n",
    "\n",
    "Using a structure is not that much different from previous examples. Users must make a sort of a copy of the structure in Python by defining a *class* of **ctypes.Structure**.\n",
    "\n",
    "Every C structure element is then defined in a list of tuples called **_fields_**. It would be interesting to compare it to the C structure."
   ]
  },
  {
   "cell_type": "code",
   "execution_count": 24,
   "metadata": {},
   "outputs": [],
   "source": [
    "class READ_DATA(ctypes.Structure):\n",
    "    # Definition of every element in the C structure\n",
    "    _fields_ = [(\"nb_elements\", ctypes.c_int),\n",
    "               (\"exists_nb_elements\", ctypes.c_int),\n",
    "               (\"matrix\", ctypes.POINTER(ctypes.POINTER(ctypes.c_int))),\n",
    "               (\"n_el_in_matrix\", ctypes.POINTER(ctypes.c_int)),\n",
    "               (\"n\", ctypes.c_int),\n",
    "               (\"exists_matrix\", ctypes.c_int)]\n",
    "    \n",
    "    def __init__(self, n_elements, size_columns_matrix=None):\n",
    "        # wrap every useful function for the class during the initialization\n",
    "        self.init_data_c = wrap_c2py(lib, \"init_data\", ctypes.POINTER(READ_DATA), [ctypes.c_int])\n",
    "        self.free_data_c = wrap_c2py(lib, \"free_data\", None, [ctypes.POINTER(READ_DATA)])\n",
    "\n",
    "        # create an attribute to get the address of the class READ_DATA (pointer)\n",
    "        self.address = ctypes.POINTER(READ_DATA)()\n",
    "        \n",
    "        with capture_c_stdout():\n",
    "            # initialize the class/structure\n",
    "            self.address = self.init_data_c(n_elements)\n",
    "        \n",
    "        # Store information into the class (Not a must)\n",
    "        self.nb_elements = self.get_nb_elements()\n",
    "        self.exists_nb_elements = self.get_exists_nb_elements()\n",
    "        \n",
    "    def free_all(self):\n",
    "        self.free_data_c(self.address)\n",
    "        print(\"C struture has just been freed!\")\n",
    "        \n",
    "    def get_nb_elements(self):\n",
    "        return self.address.contents.nb_elements\n",
    "    \n",
    "    def get_exists_nb_elements(self):\n",
    "        return self.address.contents.exists_nb_elements\n",
    "            \n"
   ]
  },
  {
   "cell_type": "code",
   "execution_count": 25,
   "metadata": {},
   "outputs": [
    {
     "name": "stdout",
     "output_type": "stream",
     "text": [
      "4\n",
      "4\n",
      "C struture has just been freed!\n",
      "4\n",
      "31504784\n"
     ]
    }
   ],
   "source": [
    "d = READ_DATA(4)\n",
    "print(d.nb_elements) # stored data accessed in the class\n",
    "print(d.address.contents.nb_elements) # stored data accessed by the pointer\n",
    "d.free_all()\n",
    "print(d.nb_elements) # stored data accessed in the class\n",
    "print(d.address.contents.nb_elements) # stored data accessed by the freed pointer"
   ]
  },
  {
   "cell_type": "markdown",
   "metadata": {},
   "source": [
    " ## <a id=\"references\"></a> References\n",
    " \n",
    " I advise to read this great [article](https://dbader.org/blog/python-ctypes-tutorial) to get better explanations about how it works. \n",
    " \n",
    " Inspired from https://www.cprogramming.com/tutorial/shared-libraries-linux-gcc.html\n",
    " \n",
    " [<a id=\"captureSTDOUT\">3</a>] Extracted from https://stackoverflow.com/questions/35745541/how-to-get-printed-output-from-ctypes-c-functions-into-jupyter-ipython-notebook"
   ]
  },
  {
   "cell_type": "code",
   "execution_count": null,
   "metadata": {
    "collapsed": true
   },
   "outputs": [],
   "source": []
  }
 ],
 "metadata": {
  "kernelspec": {
   "display_name": "Python 3",
   "language": "python",
   "name": "python3"
  },
  "language_info": {
   "codemirror_mode": {
    "name": "ipython",
    "version": 3
   },
   "file_extension": ".py",
   "mimetype": "text/x-python",
   "name": "python",
   "nbconvert_exporter": "python",
   "pygments_lexer": "ipython3",
   "version": "3.6.1"
  }
 },
 "nbformat": 4,
 "nbformat_minor": 2
}
