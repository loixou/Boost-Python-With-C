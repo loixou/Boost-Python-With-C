{
 "cells": [
  {
   "cell_type": "markdown",
   "metadata": {},
   "source": [
    "# Mixing C and Python with CFFI\n",
    "\n",
    " This notebook is set to have a look on the Python modula called [CFFI](https://cffi.readthedocs.io/en/latest/). Different tutorials exist on different websites. This might be considered as a concatenation of examples[[1](#Sam&Max)][[2](#dbader)]... Following the same order as the previous Notebook (1- Mixing C and Python with ctypes). This notebook is focused on API level, out-of-line system[[2](#dbader)]. This tutorial is not complete, though. Any idea of improvement is greatly welcomed.\n",
    "\n",
    "The notebook is built on the following order:\n",
    " \n",
    " 1. [Compilation of shared libraries and preprocess](#Compilation)\n",
    " 2. [Get stdout in the notebook](#getSTDOUT)\n",
    " 3. [CFFI](#cffi)     \n",
    " 4. [Simple use](#simpleUse)\n",
    " 5. [Unmutable and mutable strings](#strings)\n",
    " 6. [Pointers and malloc](#pointers)\n",
    " 7. [Structures](#structures)\n",
    " 8. [References](#references)\n",
    " \n",
    " \n",
    "This notebook was tested on a Ubuntu distribution, with Python3.6.\n"
   ]
  },
  {
   "cell_type": "markdown",
   "metadata": {},
   "source": [
    "## Some imports and path definitions"
   ]
  },
  {
   "cell_type": "code",
   "execution_count": null,
   "metadata": {
    "collapsed": true
   },
   "outputs": [],
   "source": [
    "import os\n",
    "import numpy as np\n",
    "import sys\n",
    "import subprocess\n",
    "\n",
    "from cffi import FFI"
   ]
  },
  {
   "cell_type": "code",
   "execution_count": null,
   "metadata": {
    "collapsed": true
   },
   "outputs": [],
   "source": [
    "PATH_LIB = './libs/'\n",
    "PATH_C = './src/'\n",
    "PATH_FAKE_LIB = \"utils/fake_libc_include\" #from pycparser"
   ]
  },
  {
   "cell_type": "markdown",
   "metadata": {},
   "source": [
    "## <a id=\"Compilation\"></a> Compilation of C library\n",
    "\n",
    "To be used in other languages, such as Python, C code must be compiled into a shared library. When *ctypes* just needed the shared library (file.so), **CFFI** needs also to parse header files. However, the parsed header must be previously preprocesed by a compilator, in order to \"make disapear\" all the **#include** lines. Users should open both files to see the difference. To do this little trick, we use fake headers[[3](#fakeHeaders)] and a specific flag for the partial compilation."
   ]
  },
  {
   "cell_type": "code",
   "execution_count": null,
   "metadata": {
    "scrolled": true
   },
   "outputs": [],
   "source": [
    "os.system(\"gcc -std=c99 -Wall -fPIC -c {} -o {}\".format(os.path.join(PATH_C, \"C_to_python.c\"), \n",
    "                                                        os.path.join(PATH_LIB, \"C_to_python.o\")))\n",
    "os.system(\"gcc -shared -o {} {}\".format(os.path.join(PATH_LIB, \"C2py.so\"), \n",
    "                                        os.path.join(PATH_LIB, \"C_to_python.o\"))) \n",
    "\n",
    "#preprocess to tranform the header\n",
    "os.system('gcc -E -I{} {} -o {}'.format(PATH_FAKE_LIB,\n",
    "                                        os.path.join(PATH_C, \"C_to_python.h\"),\n",
    "                                        os.path.join(PATH_LIB, \"preprocessed_C_to_python.h\")))\n",
    "\n",
    "print(\"Library compiled and header transformed!\")"
   ]
  },
  {
   "cell_type": "markdown",
   "metadata": {},
   "source": [
    "## <a id=\"getSTDOUT\"></a> Function to get stdout in the notebook\n",
    "\n",
    "Different C functions (**printf** in particular) use a standard output in the terminal (*stdout*). A function [[3](#captureSTDOUT)] is used to grab them into the notebook. This part is completely useless when using a script .py, and must be completly removed."
   ]
  },
  {
   "cell_type": "code",
   "execution_count": null,
   "metadata": {
    "collapsed": true
   },
   "outputs": [],
   "source": [
    "import tempfile\n",
    "from contextlib import contextmanager\n",
    "import io\n",
    "import ctypes\n",
    "\n",
    "libc = ctypes.CDLL(ctypes.util.find_library('c'), use_errno=True)\n",
    "\n",
    "class FILE(ctypes.Structure):\n",
    "    pass\n",
    "\n",
    "FILE_p = ctypes.POINTER(FILE)\n",
    "\n",
    "# These variables, defined inside the C library, are readonly.\n",
    "cstdin = FILE_p.in_dll(libc, 'stdin')\n",
    "cstdout = FILE_p.in_dll(libc, 'stdout')\n",
    "cstderr = FILE_p.in_dll(libc, 'stderr')\n",
    "\n",
    "# C function to disable buffering.\n",
    "csetbuf = libc.setbuf\n",
    "csetbuf.argtypes = (FILE_p, ctypes.c_char_p)\n",
    "csetbuf.restype = None\n",
    "\n",
    "# C function to flush the C library buffer.\n",
    "cfflush = libc.fflush\n",
    "cfflush.argtypes = (FILE_p,)\n",
    "cfflush.restype = ctypes.c_int\n",
    "\n",
    "@contextmanager\n",
    "def capture_c_stdout(encoding='utf8'):\n",
    "    # Flushing, it's a good practice.\n",
    "    sys.stdout.flush()\n",
    "    cfflush(cstdout)\n",
    "\n",
    "    # We need to use a actual file because we need the file descriptor number.\n",
    "    with tempfile.TemporaryFile(buffering=0) as temp:\n",
    "        # Saving a copy of the original stdout.\n",
    "        prev_sys_stdout = sys.stdout\n",
    "        prev_stdout_fd = os.dup(1)\n",
    "        os.close(1)\n",
    "\n",
    "        # Duplicating the temporary file fd into the stdout fd.\n",
    "        # In other words, replacing the stdout.\n",
    "        os.dup2(temp.fileno(), 1)\n",
    "\n",
    "        # Replacing sys.stdout for Python code.\n",
    "        #\n",
    "        # IPython Notebook version of sys.stdout is actually an\n",
    "        # in-memory OutStream, so it does not have a file descriptor.\n",
    "        # We need to replace sys.stdout so that interleaved Python\n",
    "        # and C output gets captured in the correct order.\n",
    "        #\n",
    "        # We enable line_buffering to force a flush after each line.\n",
    "        # And write_through to force all data to be passed through the\n",
    "        # wrapper directly into the binary temporary file.\n",
    "        temp_wrapper = io.TextIOWrapper(\n",
    "            temp, encoding=encoding, line_buffering=True, write_through=True)\n",
    "        sys.stdout = temp_wrapper\n",
    "\n",
    "        # Disabling buffering of C stdout.\n",
    "        csetbuf(cstdout, None)\n",
    "\n",
    "        yield\n",
    "\n",
    "        # Must flush to clear the C library buffer.\n",
    "        cfflush(cstdout)\n",
    "\n",
    "        # Restoring stdout.\n",
    "        os.dup2(prev_stdout_fd, 1)\n",
    "        os.close(prev_stdout_fd)\n",
    "        sys.stdout = prev_sys_stdout\n",
    "\n",
    "        # Printing the captured output.\n",
    "        temp_wrapper.seek(0)\n",
    "        print(temp_wrapper.read(), end='')"
   ]
  },
  {
   "cell_type": "markdown",
   "metadata": {},
   "source": [
    "## <a id=\"cffi\"></a> CFFI is magic!\n",
    "\n",
    "### Loading Library\n",
    "\n",
    "We load the lirary into *lib_ffi*."
   ]
  },
  {
   "cell_type": "code",
   "execution_count": null,
   "metadata": {},
   "outputs": [],
   "source": [
    "ffi = FFI()\n",
    "with open(os.path.join(PATH_LIB,\"preprocessed_C_to_python.h\"), 'r') as f:\n",
    "    preprocessed_text = f.read()\n",
    "    \n",
    "ffi.cdef(preprocessed_text)\n",
    "lib_ffi = ffi.dlopen(os.path.join(PATH_LIB,\"C2py.so\"))\n",
    "\n",
    "print(\"The library is loaded!\")"
   ]
  },
  {
   "cell_type": "markdown",
   "metadata": {},
   "source": [
    "### <a id=\"simpleUse\"></a> Simple use\n",
    "\n",
    "Loading the library creates an object wherein all functions are attributes. Then, it is easy to watch the effect of calling **welcome()**."
   ]
  },
  {
   "cell_type": "code",
   "execution_count": null,
   "metadata": {
    "scrolled": true
   },
   "outputs": [],
   "source": [
    "with capture_c_stdout():\n",
    "    lib_ffi.welcome()"
   ]
  },
  {
   "cell_type": "markdown",
   "metadata": {},
   "source": [
    "The FFI module reads the header in order to determine the nature of both inputs and outpout. Then, if one does not fill functions with the right number of arguments (or the correct type of argument), the execution leads to an internal error."
   ]
  },
  {
   "cell_type": "code",
   "execution_count": null,
   "metadata": {},
   "outputs": [],
   "source": [
    "with capture_c_stdout():\n",
    "    a = lib_ffi.add(4,2)\n",
    "    \n",
    "print(a)"
   ]
  },
  {
   "cell_type": "code",
   "execution_count": null,
   "metadata": {
    "scrolled": true
   },
   "outputs": [],
   "source": [
    "tab = [4,6.56, 10]\n",
    "with capture_c_stdout():\n",
    "    lib_ffi.sum(len(tab), tab)"
   ]
  },
  {
   "cell_type": "markdown",
   "metadata": {},
   "source": [
    "### <a id=\"strings\"></a> Unmutable and mutable strings\n",
    "\n",
    "Using strings might be a little more tricky than numbers. In Python, strings are unmutable, which means that they cannot be modified. To modify strings in Python, we must create another variable, which is not the case in C. Thus, we need to convert them so they can be used in C code. To do so, we must define a char\\* variable using the modula CFFI. Two possible actions:\n",
    "- **char\\* ** is used to code a single char (1 byte)\n",
    "- **char [] ** is used to code a list of chars. Must fill it with an encoded string\n",
    "\n",
    "The user might test to see the different ways. In this example, one must choose **char []**."
   ]
  },
  {
   "cell_type": "code",
   "execution_count": null,
   "metadata": {
    "scrolled": true
   },
   "outputs": [],
   "source": [
    "# unmutable case\n",
    "unmutable_str = \"This is a test!\"\n",
    "mutable_str = ffi.new(\"char []\", unmutable_str.encode('ascii'))\n",
    "\n",
    "with capture_c_stdout():\n",
    "    lib_ffi.print_text(mutable_str)"
   ]
  },
  {
   "cell_type": "markdown",
   "metadata": {},
   "source": [
    "### <a id=\"pointers\"></a> Pointers and malloc\n",
    "\n",
    "#### Use a pointer input parameter as an output\n",
    "\n",
    "The declaration of pointers has to be done on the same way than the declaration of a string. We also make a difference between two declarations (**type** can be replaced by int, double...):\n",
    "- **type \\* ** allocates $m$ bytes, where $m$ is the number of bytes the type needs for a single element\n",
    "- **type [$n$]** allocates $m * n$ bytes, corresponding to $n$ elements of the type\n",
    "\n",
    "It is possible to declare a table as (**type [], $n$**) as mentionned in [[5](#cffiDOC)].\n",
    "\n",
    "Then, whenever we create a table, we must precise the number of elements in it. A wrapper might be used to create it without thinking.\n"
   ]
  },
  {
   "cell_type": "code",
   "execution_count": null,
   "metadata": {
    "collapsed": true
   },
   "outputs": [],
   "source": [
    "def wrapper_ffi(ffi, type_str, size):\n",
    "    return ffi.new(\"{}[]\".format(type_str), size)"
   ]
  },
  {
   "cell_type": "markdown",
   "metadata": {},
   "source": [
    "Then, we can simply get the square array of an input."
   ]
  },
  {
   "cell_type": "code",
   "execution_count": null,
   "metadata": {
    "scrolled": true
   },
   "outputs": [],
   "source": [
    "ina = [4,3,2.5]\n",
    "outa = wrapper_ffi(ffi, \"double\", len(ina)) # do not have to free (allocation in Python)\n",
    "\n",
    "with capture_c_stdout():\n",
    "    lib_ffi.square_array(3, ina, outa)\n",
    "\n",
    "for i in range(len(ina)):\n",
    "    print(\"{}² = {}\".format(ina[i], outa[i]))"
   ]
  },
  {
   "cell_type": "markdown",
   "metadata": {},
   "source": [
    "#### Malloc and free \n",
    "\n",
    "In this section, it is possible to deal with **init_matrix** and **free_matrix** by calling them with integers and lists from the library. But it would be nicer to create a little wrapper to be able to exploit data easily.\n",
    "\n",
    "The first example deals with the creation of a matrix in C."
   ]
  },
  {
   "cell_type": "code",
   "execution_count": null,
   "metadata": {
    "collapsed": true
   },
   "outputs": [],
   "source": [
    "def init_mat(size):\n",
    "    global lib_ffi\n",
    "    with capture_c_stdout():\n",
    "        m = lib_ffi.init_matrix(len(size), size) # m is a C allocated pointer\n",
    "    \n",
    "    # extraction of data\n",
    "    value = [[m[i][j] for j in range(size[i])] for i in range(len(size))]\n",
    "    \n",
    "    return value, m"
   ]
  },
  {
   "cell_type": "code",
   "execution_count": null,
   "metadata": {},
   "outputs": [],
   "source": [
    "size = [2, 5, 2]\n",
    "val, address = init_mat(size)\n",
    "print(\"Matrix {} \\nstored by {}\".format(val, address))\n",
    "\n",
    "print(\"\\nPrinting first elements...\") # May produce huge errors... Since we exeed the allocated memory...\n",
    "for i in range(3):\n",
    "    print(address[0][i])"
   ]
  },
  {
   "cell_type": "code",
   "execution_count": null,
   "metadata": {},
   "outputs": [],
   "source": [
    "with capture_c_stdout():\n",
    "    lib_ffi.free_matrix(len(size), size, address)\n",
    "    \n",
    "print(\"Matrix {} \\nstored by {}\".format(val, address))\n",
    "\n",
    "print(\"\\nPrinting first elements...\")# May produce huge errors... Since the pointer points on random memory\n",
    "for i in range(3):\n",
    "    print(address[0][i])"
   ]
  },
  {
   "cell_type": "markdown",
   "metadata": {},
   "source": [
    "The second example deals with the creation of a table set as an input. To do so, we create an **int\\*\\*** element."
   ]
  },
  {
   "cell_type": "code",
   "execution_count": null,
   "metadata": {},
   "outputs": [],
   "source": [
    "def init_tab(length):\n",
    "    global ffi\n",
    "    global lib_ffi\n",
    "    tab_handle = ffi.new(\"int **\") # is freed when the function ends\n",
    "    with capture_c_stdout():\n",
    "        lib_ffi.init_tab(length, tab_handle)\n",
    "    \n",
    "    # Extract information of pointer tab\n",
    "    value = [tab_handle[0][i] for i in range(length)]\n",
    "    \n",
    "    return value, tab_handle[0]\n"
   ]
  },
  {
   "cell_type": "code",
   "execution_count": null,
   "metadata": {},
   "outputs": [],
   "source": [
    "val, address = init_tab(3)\n",
    "print(\"Tab {} \\nstored by {}\".format(val, address))\n",
    "\n",
    "print(\"\\nPrinting first elements...\")# May produce huge errors... Since we exeed the allocated memory...\n",
    "for i in range(4):\n",
    "    print(address[i])"
   ]
  },
  {
   "cell_type": "code",
   "execution_count": null,
   "metadata": {},
   "outputs": [],
   "source": [
    "# Free tab\n",
    "with capture_c_stdout():\n",
    "    lib_ffi.free_tab(address)\n",
    "\n",
    "print(\"Printing first elements...\")# May produce huge errors... Since the pointer points on random memory\n",
    "for i in range(4):\n",
    "    print(address[i])"
   ]
  },
  {
   "cell_type": "markdown",
   "metadata": {},
   "source": [
    "### <a id=\"structures\" ></a> How to use a structure?\n",
    "\n",
    "To define a structure, two methods are possible:\n",
    "- a C function produces a pointer on that structure (which is out case). Then, no need to use *ffi.new()*\n",
    "- Python has to create the structure. In that case, we need to define the length of all the elements in that structure [[6](#cffiDOC_2)].\n",
    "\n",
    "In this notebook, we'll deal with the use of a C allocation."
   ]
  },
  {
   "cell_type": "code",
   "execution_count": null,
   "metadata": {},
   "outputs": [],
   "source": [
    "with capture_c_stdout():\n",
    "    test = lib_ffi.init_data(2)\n",
    "if test.exists_nb_elements:\n",
    "    print(\"Nb elements: {}\".format(test.nb_elements))\n",
    "\n",
    "if test.exists_matrix:\n",
    "    print(\"There is a matrix!\")"
   ]
  },
  {
   "cell_type": "code",
   "execution_count": null,
   "metadata": {},
   "outputs": [],
   "source": [
    "test.matrix"
   ]
  },
  {
   "cell_type": "code",
   "execution_count": null,
   "metadata": {},
   "outputs": [],
   "source": [
    "with capture_c_stdout():\n",
    "    lib_ffi.free_data(test)\n",
    "    \n",
    "print(\"Nb elements: {}\".format(test.nb_elements))\n"
   ]
  },
  {
   "cell_type": "markdown",
   "metadata": {},
   "source": [
    " ## <a id=\"references\"></a> References\n",
    " \n",
    " [<a id=\"tuto\">1</a>] A tremendous tutorial: https://dbader.org/blog/python-cffi\n",
    " \n",
    " [<a id=\"sharedLibrary\">2</a>] Shared libraries: https://www.cprogramming.com/tutorial/shared-libraries-linux-gcc.html\n",
    " \n",
    " [<a id=\"tuto\">3</a>] Fake headers: https://eli.thegreenplace.net/2015/on-parsing-c-type-declarations-and-fake-headers/\n",
    "\n",
    " [<a id=\"captureSTDOUT\">4</a>] How to print stdout in a notebook? https://stackoverflow.com/questions/35745541/how-to-get-printed-output-from-ctypes-c-functions-into-jupyter-ipython-notebook\n",
    " \n",
    " [<a id=\"cffiDOC\">5</a>]https://cffi.readthedocs.io/en/latest/using.html#working-with-pointers-structures-and-arrays\n",
    " \n",
    " [<a id=\"cffiDOC_2\">6</a>] https://cffi.readthedocs.io/en/latest/using.html"
   ]
  },
  {
   "cell_type": "code",
   "execution_count": null,
   "metadata": {
    "collapsed": true
   },
   "outputs": [],
   "source": []
  }
 ],
 "metadata": {
  "kernelspec": {
   "display_name": "Python 3",
   "language": "python",
   "name": "python3"
  },
  "language_info": {
   "codemirror_mode": {
    "name": "ipython",
    "version": 3
   },
   "file_extension": ".py",
   "mimetype": "text/x-python",
   "name": "python",
   "nbconvert_exporter": "python",
   "pygments_lexer": "ipython3",
   "version": "3.6.1"
  }
 },
 "nbformat": 4,
 "nbformat_minor": 2
}
